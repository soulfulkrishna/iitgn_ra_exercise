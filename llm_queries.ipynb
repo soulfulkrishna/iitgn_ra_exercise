{
  "nbformat": 4,
  "nbformat_minor": 0,
  "metadata": {
    "colab": {
      "provenance": []
    },
    "kernelspec": {
      "name": "python3",
      "display_name": "Python 3"
    },
    "language_info": {
      "name": "python"
    }
  },
  "cells": [
    {
      "cell_type": "code",
      "execution_count": 1,
      "metadata": {
        "colab": {
          "base_uri": "https://localhost:8080/"
        },
        "id": "wMNB_KhE4yNL",
        "outputId": "e36241d5-331d-444d-ff58-c5e3b76a793e"
      },
      "outputs": [
        {
          "output_type": "stream",
          "name": "stderr",
          "text": [
            "<ipython-input-1-86d9cf0ac24d>:3: FutureWarning: Support for nested sequences for 'parse_dates' in pd.read_csv is deprecated. Combine the desired columns with pd.to_datetime after parsing instead.\n",
            "  df = pd.read_csv('household_power_consumption.txt',\n",
            "<ipython-input-1-86d9cf0ac24d>:3: FutureWarning: The argument 'infer_datetime_format' is deprecated and will be removed in a future version. A strict version of it is now the default, see https://pandas.pydata.org/pdeps/0004-consistent-to-datetime-parsing.html. You can safely remove this argument.\n",
            "  df = pd.read_csv('household_power_consumption.txt',\n",
            "<ipython-input-1-86d9cf0ac24d>:3: UserWarning: Parsing dates in %d/%m/%Y %H:%M:%S format when dayfirst=False (the default) was specified. Pass `dayfirst=True` or specify a format to silence this warning.\n",
            "  df = pd.read_csv('household_power_consumption.txt',\n"
          ]
        }
      ],
      "source": [
        "import pandas as pd\n",
        "\n",
        "df = pd.read_csv('household_power_consumption.txt',\n",
        "             \tsep=';',\n",
        "             \tparse_dates={'datetime': ['Date', 'Time']},\n",
        "             \tinfer_datetime_format=True,\n",
        "             \tna_values=['?'],\n",
        "             \tlow_memory=False)\n",
        "\n",
        "df = df.dropna()\n",
        "df['Global_active_power'] = df['Global_active_power'].astype(float)\n",
        "df = df.set_index('datetime')\n"
      ]
    },
    {
      "cell_type": "code",
      "source": [
        "print(\"\"\"Queries are:\n",
        "   \t1. What was the average active power consumption in March 2007?\n",
        "   \t2. What hour of the day had the highest power usage on Christmas 2006?\n",
        "   \t3. Compare energy usage (Global_active_power) on weekdays vs weekends.\n",
        "   \t4. Find days where energy consumption exceeded 5 kWh.\n",
        "   \t5. Plot the energy usage trend for the first week of January 2007.\n",
        "   \t6. Find the average voltage for each day of the first week of February 2007.\n",
        "   \t7. What is the correlation between global active power and sub-metering values?\"\"\")"
      ],
      "metadata": {
        "colab": {
          "base_uri": "https://localhost:8080/"
        },
        "id": "YL07s_vO5o04",
        "outputId": "5a91171a-a327-495d-e731-d96a6c34ada4"
      },
      "execution_count": 24,
      "outputs": [
        {
          "output_type": "stream",
          "name": "stdout",
          "text": [
            "Queries are:\n",
            "   \t1. What was the average active power consumption in March 2007?\n",
            "   \t2. What hour of the day had the highest power usage on Christmas 2006?\n",
            "   \t3. Compare energy usage (Global_active_power) on weekdays vs weekends.\n",
            "   \t4. Find days where energy consumption exceeded 5 kWh.\n",
            "   \t5. Plot the energy usage trend for the first week of January 2007.\n",
            "   \t6. Find the average voltage for each day of the first week of February 2007.\n",
            "   \t7. What is the correlation between global active power and sub-metering values?\n"
          ]
        }
      ]
    },
    {
      "cell_type": "code",
      "source": [
        "!pip install requests openai\n"
      ],
      "metadata": {
        "colab": {
          "base_uri": "https://localhost:8080/"
        },
        "id": "zLU21KtMPyk2",
        "outputId": "b8e5c805-7bb8-40e3-b315-e397438602e4"
      },
      "execution_count": 30,
      "outputs": [
        {
          "output_type": "stream",
          "name": "stdout",
          "text": [
            "Requirement already satisfied: requests in /usr/local/lib/python3.11/dist-packages (2.32.3)\n",
            "Requirement already satisfied: openai in /usr/local/lib/python3.11/dist-packages (1.84.0)\n",
            "Requirement already satisfied: charset-normalizer<4,>=2 in /usr/local/lib/python3.11/dist-packages (from requests) (3.4.2)\n",
            "Requirement already satisfied: idna<4,>=2.5 in /usr/local/lib/python3.11/dist-packages (from requests) (3.10)\n",
            "Requirement already satisfied: urllib3<3,>=1.21.1 in /usr/local/lib/python3.11/dist-packages (from requests) (2.4.0)\n",
            "Requirement already satisfied: certifi>=2017.4.17 in /usr/local/lib/python3.11/dist-packages (from requests) (2025.4.26)\n",
            "Requirement already satisfied: anyio<5,>=3.5.0 in /usr/local/lib/python3.11/dist-packages (from openai) (4.9.0)\n",
            "Requirement already satisfied: distro<2,>=1.7.0 in /usr/local/lib/python3.11/dist-packages (from openai) (1.9.0)\n",
            "Requirement already satisfied: httpx<1,>=0.23.0 in /usr/local/lib/python3.11/dist-packages (from openai) (0.28.1)\n",
            "Requirement already satisfied: jiter<1,>=0.4.0 in /usr/local/lib/python3.11/dist-packages (from openai) (0.10.0)\n",
            "Requirement already satisfied: pydantic<3,>=1.9.0 in /usr/local/lib/python3.11/dist-packages (from openai) (2.11.5)\n",
            "Requirement already satisfied: sniffio in /usr/local/lib/python3.11/dist-packages (from openai) (1.3.1)\n",
            "Requirement already satisfied: tqdm>4 in /usr/local/lib/python3.11/dist-packages (from openai) (4.67.1)\n",
            "Requirement already satisfied: typing-extensions<5,>=4.11 in /usr/local/lib/python3.11/dist-packages (from openai) (4.14.0)\n",
            "Requirement already satisfied: httpcore==1.* in /usr/local/lib/python3.11/dist-packages (from httpx<1,>=0.23.0->openai) (1.0.9)\n",
            "Requirement already satisfied: h11>=0.16 in /usr/local/lib/python3.11/dist-packages (from httpcore==1.*->httpx<1,>=0.23.0->openai) (0.16.0)\n",
            "Requirement already satisfied: annotated-types>=0.6.0 in /usr/local/lib/python3.11/dist-packages (from pydantic<3,>=1.9.0->openai) (0.7.0)\n",
            "Requirement already satisfied: pydantic-core==2.33.2 in /usr/local/lib/python3.11/dist-packages (from pydantic<3,>=1.9.0->openai) (2.33.2)\n",
            "Requirement already satisfied: typing-inspection>=0.4.0 in /usr/local/lib/python3.11/dist-packages (from pydantic<3,>=1.9.0->openai) (0.4.1)\n"
          ]
        }
      ]
    },
    {
      "cell_type": "code",
      "source": [
        "import os\n",
        "import requests\n",
        "\n",
        "# 1. Store your key (don’t hard-code in shared notebooks!)\n",
        "os.environ[\"GROQ_API_KEY\"] = \"cannot write that here\"\n",
        "\n",
        "# 2. Prepare endpoint, headers, and payload\n",
        "endpoint = \"https://api.groq.com/openai/v1/chat/completions\"\n",
        "headers = {\n",
        "    \"Content-Type\": \"application/json\",\n",
        "    \"Authorization\": f\"Bearer {os.environ['GROQ_API_KEY']}\"\n",
        "}\n",
        "payload = {\n",
        "    \"model\": \"meta-llama/llama-4-scout-17b-16e-instruct\",\n",
        "    \"messages\": [\n",
        "        {\"role\": \"user\", \"content\": \"Explain the importance of fast language models\"}\n",
        "    ]\n",
        "}\n",
        "\n",
        "# 3. Send the request\n",
        "resp = requests.post(endpoint, json=payload, headers=headers)\n",
        "resp.raise_for_status()\n",
        "\n",
        "# 4. See the response\n",
        "print(resp.json())\n"
      ],
      "metadata": {
        "colab": {
          "base_uri": "https://localhost:8080/"
        },
        "id": "s9t38wGAP5LF",
        "outputId": "15897c84-2c3b-4077-9fea-160715b66a80"
      },
      "execution_count": 31,
      "outputs": [
        {
          "output_type": "stream",
          "name": "stdout",
          "text": [
            "{'id': 'chatcmpl-e1dbf167-73c1-4e69-b65b-a681e59f0758', 'object': 'chat.completion', 'created': 1749465152, 'model': 'meta-llama/llama-4-scout-17b-16e-instruct', 'choices': [{'index': 0, 'message': {'role': 'assistant', 'content': 'Fast language models have become increasingly important in recent years due to their widespread applications in natural language processing (NLP) and artificial intelligence (AI). Here are some reasons why fast language models are crucial:\\n\\n1. **Improved User Experience**: Fast language models enable faster and more responsive interactions with users, which is particularly important for applications such as chatbots, virtual assistants, and language translation systems. A faster model response time leads to a better user experience, increased engagement, and higher satisfaction.\\n2. **Scalability**: As the demand for NLP applications grows, the need for fast language models becomes more pressing. Fast models can handle a larger volume of requests, making them more scalable and suitable for large-scale applications.\\n3. **Real-time Processing**: Many NLP applications, such as speech recognition, sentiment analysis, and text classification, require real-time processing. Fast language models can process and respond to input in real-time, enabling applications that require immediate feedback.\\n4. **Cost-effectiveness**: Faster language models can reduce the computational resources required to process a given amount of text data. This leads to cost savings in terms of hardware, energy consumption, and maintenance.\\n5. **Competitive Advantage**: In many industries, such as customer service, finance, and healthcare, the ability to quickly and accurately process and respond to user input can be a key differentiator. Fast language models can provide a competitive advantage by enabling organizations to respond faster and more effectively to user queries.\\n6. **Increased Accuracy**: Research has shown that faster language models can also lead to improved accuracy. This is because faster models can use more sophisticated and computationally expensive techniques, such as self-attention mechanisms and transformer architectures, which can improve model accuracy.\\n7. **Enabling New Applications**: Fast language models enable new applications that were previously not possible due to computational constraints. For example, fast language models can enable real-time language translation, sentiment analysis, and text summarization, which can be used in applications such as live subtitles, instant messaging, and news aggregation.\\n\\nSome of the key areas where fast language models are particularly important include:\\n\\n1. **Conversational AI**: Fast language models are essential for conversational AI applications, such as chatbots, virtual assistants, and voice assistants.\\n2. **Language Translation**: Fast language models are critical for real-time language translation applications, such as live subtitles, simultaneous interpretation, and instant messaging.\\n3. **Sentiment Analysis**: Fast language models are used in sentiment analysis applications, such as monitoring social media sentiment, analyzing customer feedback, and detecting emotional trends.\\n4. **Text Classification**: Fast language models are used in text classification applications, such as spam detection, sentiment analysis, and topic modeling.\\n\\nTo achieve fast language models, researchers and developers use various techniques, including:\\n\\n1. **Model pruning**: Removing redundant or unnecessary model parameters to reduce computational complexity.\\n2. **Knowledge distillation**: Transferring knowledge from a larger model to a smaller one to reduce computational complexity.\\n3. **Efficient architectures**: Designing model architectures that are optimized for speed and efficiency, such as transformer-based models.\\n4. **Quantization**: Reducing the precision of model weights and activations to reduce computational complexity.\\n5. **Parallelization**: Distributing model computations across multiple processing units, such as GPUs or TPUs, to speed up processing.\\n\\nOverall, fast language models are essential for enabling efficient, scalable, and accurate NLP applications that can respond quickly to user input and provide a better user experience.'}, 'logprobs': None, 'finish_reason': 'stop'}], 'usage': {'queue_time': 0.212055006, 'prompt_tokens': 17, 'prompt_time': 0.002384817, 'completion_tokens': 693, 'completion_time': 1.417787375, 'total_tokens': 710, 'total_time': 1.4201721919999999}, 'usage_breakdown': {'models': None}, 'system_fingerprint': 'fp_79da0e0073', 'x_groq': {'id': 'req_01jxa3zewte5c9d69nxj2x6aef'}}\n"
          ]
        }
      ]
    },
    {
      "cell_type": "code",
      "source": [
        "import pandas as pd\n",
        "\n",
        "def calculate_average_active_power(file_path):\n",
        "    try:\n",
        "        # Load the dataset\n",
        "        data = pd.read_csv(file_path, sep=';',\n",
        "                           on_bad_lines='skip',\n",
        "                           parse_dates=['Date'],\n",
        "                           dayfirst=True)\n",
        "\n",
        "        # Ensure date is of datetime type\n",
        "        data['Date'] = pd.to_datetime(data['Date'])\n",
        "\n",
        "        # Filter data for March 2007\n",
        "        march_2007_data = data[(data['Date'].dt.year == 2007) & (data['Date'].dt.month == 3)]\n",
        "\n",
        "        if march_2007_data.empty:\n",
        "            print(\"No data available for March 2007.\")\n",
        "            return None\n",
        "\n",
        "        # Calculate average active power consumption\n",
        "        # Convert the column to numeric, coercing errors to NaN, before calculating the mean\n",
        "        march_2007_data['Global_active_power'] = pd.to_numeric(march_2007_data['Global_active_power'], errors='coerce')\n",
        "        average_active_power = march_2007_data['Global_active_power'].mean()\n",
        "\n",
        "\n",
        "        return average_active_power\n",
        "    except Exception as e:\n",
        "        print(f\"An error occurred: {e}\")\n",
        "        return None\n",
        "\n",
        "# Usage\n",
        "file_path = 'household_power_consumption.txt'\n",
        "average_power = calculate_average_active_power(file_path)\n",
        "\n",
        "if average_power is not None:\n",
        "    print(f\"Average active power consumption in March 2007: {average_power:.2f}\")"
      ],
      "metadata": {
        "colab": {
          "base_uri": "https://localhost:8080/"
        },
        "id": "Ly1bsX9yfimY",
        "outputId": "22beeac5-824b-4b33-fded-95892767e119"
      },
      "execution_count": 37,
      "outputs": [
        {
          "output_type": "stream",
          "name": "stderr",
          "text": [
            "<ipython-input-37-0a1762a9d2a1>:6: DtypeWarning: Columns (2,3,4,5,6,7) have mixed types. Specify dtype option on import or set low_memory=False.\n",
            "  data = pd.read_csv(file_path, sep=';',\n"
          ]
        },
        {
          "output_type": "stream",
          "name": "stdout",
          "text": [
            "Average active power consumption in March 2007: 1.32\n"
          ]
        },
        {
          "output_type": "stream",
          "name": "stderr",
          "text": [
            "<ipython-input-37-0a1762a9d2a1>:23: SettingWithCopyWarning: \n",
            "A value is trying to be set on a copy of a slice from a DataFrame.\n",
            "Try using .loc[row_indexer,col_indexer] = value instead\n",
            "\n",
            "See the caveats in the documentation: https://pandas.pydata.org/pandas-docs/stable/user_guide/indexing.html#returning-a-view-versus-a-copy\n",
            "  march_2007_data['Global_active_power'] = pd.to_numeric(march_2007_data['Global_active_power'], errors='coerce')\n"
          ]
        }
      ]
    },
    {
      "cell_type": "code",
      "source": [
        "import pandas as pd\n",
        "\n",
        "def find_highest_power_usage_hour(file_path):\n",
        "    try:\n",
        "        # Load the dataset\n",
        "        data = pd.read_csv(file_path, sep=';',\n",
        "                           on_bad_lines='skip',\n",
        "                           parse_dates=['Date'],\n",
        "                           dayfirst=True)\n",
        "\n",
        "        # Ensure date is of datetime type\n",
        "        data['Date'] = pd.to_datetime(data['Date'])\n",
        "\n",
        "        # Combine date and time into a single datetime column\n",
        "        data['Date_Time'] = pd.to_datetime(data.apply(lambda row: f\"{row['Date'].strftime('%Y-%m-%d')} {row['Time']}\", axis=1))\n",
        "\n",
        "        # Filter data for Christmas2006 (December 25, 2006)\n",
        "        christmas_2006_data = data[(data['Date_Time'].dt.year ==2006) & (data['Date_Time'].dt.month ==12) & (data['Date_Time'].dt.day ==25)]\n",
        "\n",
        "        if christmas_2006_data.empty:\n",
        "            print(\"No data available for Christmas2006.\")\n",
        "            return None\n",
        "\n",
        "        # Group data by hour and calculate total power usage\n",
        "        # Convert 'Global_active_power' to numeric before summing\n",
        "        christmas_2006_data['Global_active_power'] = pd.to_numeric(christmas_2006_data['Global_active_power'], errors='coerce')\n",
        "        # Drop rows where conversion resulted in NaN\n",
        "        christmas_2006_data.dropna(subset=['Global_active_power'], inplace=True)\n",
        "\n",
        "        # Now group and sum\n",
        "        hourly_usage = christmas_2006_data.groupby(christmas_2006_data['Date_Time'].dt.hour)['Global_active_power'].sum().reset_index()\n",
        "\n",
        "\n",
        "        # Find the hour with the highest power usage\n",
        "        if not hourly_usage.empty:\n",
        "            max_usage_hour = hourly_usage.loc[hourly_usage['Global_active_power'].idxmax()]\n",
        "            return max_usage_hour\n",
        "        else:\n",
        "            print(\"No valid power data to calculate hourly usage.\")\n",
        "            return None\n",
        "\n",
        "    except Exception as e:\n",
        "        print(f\"An error occurred: {e}\")\n",
        "        return None\n",
        "\n",
        "# Usage\n",
        "file_path = 'household_power_consumption.txt'\n",
        "result = find_highest_power_usage_hour(file_path)\n",
        "\n",
        "if result is not None:\n",
        "    print(f\"The hour with the highest power usage on Christmas2006 is {result['Date_Time']} with a total power usage of {result['Global_active_power']:.2f} kW\")"
      ],
      "metadata": {
        "colab": {
          "base_uri": "https://localhost:8080/"
        },
        "id": "OXDYjeyVkEDB",
        "outputId": "673c1bb3-9e06-44f1-b07c-26f9c379bc3d"
      },
      "execution_count": 39,
      "outputs": [
        {
          "output_type": "stream",
          "name": "stderr",
          "text": [
            "<ipython-input-39-b5fa23230524>:6: DtypeWarning: Columns (2,3,4,5,6,7) have mixed types. Specify dtype option on import or set low_memory=False.\n",
            "  data = pd.read_csv(file_path, sep=';',\n"
          ]
        },
        {
          "output_type": "stream",
          "name": "stdout",
          "text": [
            "The hour with the highest power usage on Christmas2006 is 22.0 with a total power usage of 252.89 kW\n"
          ]
        },
        {
          "output_type": "stream",
          "name": "stderr",
          "text": [
            "<ipython-input-39-b5fa23230524>:26: SettingWithCopyWarning: \n",
            "A value is trying to be set on a copy of a slice from a DataFrame.\n",
            "Try using .loc[row_indexer,col_indexer] = value instead\n",
            "\n",
            "See the caveats in the documentation: https://pandas.pydata.org/pandas-docs/stable/user_guide/indexing.html#returning-a-view-versus-a-copy\n",
            "  christmas_2006_data['Global_active_power'] = pd.to_numeric(christmas_2006_data['Global_active_power'], errors='coerce')\n",
            "<ipython-input-39-b5fa23230524>:28: SettingWithCopyWarning: \n",
            "A value is trying to be set on a copy of a slice from a DataFrame\n",
            "\n",
            "See the caveats in the documentation: https://pandas.pydata.org/pandas-docs/stable/user_guide/indexing.html#returning-a-view-versus-a-copy\n",
            "  christmas_2006_data.dropna(subset=['Global_active_power'], inplace=True)\n"
          ]
        }
      ]
    },
    {
      "cell_type": "code",
      "source": [
        "import pandas as pd\n",
        "import matplotlib.pyplot as plt\n",
        "\n",
        "def compare_energy_usage(file_path):\n",
        "    try:\n",
        "        # Load the dataset\n",
        "        data = pd.read_csv(file_path, sep=';',\n",
        "                           on_bad_lines='skip',\n",
        "                           parse_dates=['Date'],\n",
        "                           dayfirst=True)\n",
        "\n",
        "        # Ensure date is of datetime type\n",
        "        data['Date'] = pd.to_datetime(data['Date'])\n",
        "\n",
        "        # Combine date and time into a single datetime column\n",
        "        data['Date_Time'] = pd.to_datetime(data.apply(lambda row: f\"{row['Date'].strftime('%Y-%m-%d')} {row['Time']}\", axis=1))\n",
        "\n",
        "        # Determine if the day is a weekday or weekend\n",
        "        data['Day_Type'] = data['Date_Time'].dt.dayofweek.apply(lambda x: 'Weekend' if x >=5 else 'Weekday')\n",
        "\n",
        "        # Calculate average energy usage for weekdays and weekends\n",
        "        # Convert 'Global_active_power' to numeric before calculating the mean\n",
        "        data['Global_active_power'] = pd.to_numeric(data['Global_active_power'], errors='coerce')\n",
        "        weekday_usage = data[data['Day_Type'] =='Weekday']['Global_active_power'].mean()\n",
        "        weekend_usage = data[data['Day_Type'] =='Weekend']['Global_active_power'].mean()\n",
        "\n",
        "        print(f\"Average energy usage on weekdays: {weekday_usage:.2f} kW\")\n",
        "        print(f\"Average energy usage on weekends: {weekend_usage:.2f} kW\")\n",
        "\n",
        "        # Plotting\n",
        "        plt.figure(figsize=(10,6))\n",
        "        plt.bar(['Weekday', 'Weekend'], [weekday_usage, weekend_usage], color=['blue', 'green'])\n",
        "        plt.xlabel('Day Type')\n",
        "        plt.ylabel('Average Global Active Power (kW)')\n",
        "        plt.title('Average Energy Usage on Weekdays vs Weekends')\n",
        "        plt.show()\n",
        "\n",
        "    except Exception as e:\n",
        "        print(f\"An error occurred: {e}\")\n",
        "\n",
        "# Usage\n",
        "file_path = 'household_power_consumption.txt'\n",
        "compare_energy_usage(file_path)"
      ],
      "metadata": {
        "colab": {
          "base_uri": "https://localhost:8080/",
          "height": 633
        },
        "id": "yQgUrzEQkkvJ",
        "outputId": "59b14457-34b8-418e-9c21-523308120ea8"
      },
      "execution_count": 43,
      "outputs": [
        {
          "output_type": "stream",
          "name": "stderr",
          "text": [
            "<ipython-input-43-30703fa951ac>:7: DtypeWarning: Columns (2,3,4,5,6,7) have mixed types. Specify dtype option on import or set low_memory=False.\n",
            "  data = pd.read_csv(file_path, sep=';',\n"
          ]
        },
        {
          "output_type": "stream",
          "name": "stdout",
          "text": [
            "Average energy usage on weekdays: 1.04 kW\n",
            "Average energy usage on weekends: 1.23 kW\n"
          ]
        },
        {
          "output_type": "display_data",
          "data": {
            "text/plain": [
              "<Figure size 1000x600 with 1 Axes>"
            ],
            "image/png": "[encoded data removed]"
          },
          "metadata": {}
        }
      ]
    },
    {
      "cell_type": "code",
      "source": [
        "import pandas as pd\n",
        "\n",
        "def find_excessive_energy_days(file_path):\n",
        "    try:\n",
        "        # Load the dataset\n",
        "        data = pd.read_csv(file_path, sep=';',\n",
        "                           on_bad_lines='skip',\n",
        "                           parse_dates=['Date'],\n",
        "                           dayfirst=True)\n",
        "\n",
        "        # Ensure date and time are correctly handled\n",
        "        data['Date'] = pd.to_datetime(data['Date'])\n",
        "        data['Time'] = pd.to_datetime(data['Time'], format='%H:%M:%S')\n",
        "\n",
        "        # Group data by date and calculate total daily energy consumption\n",
        "        # Convert 'Global_active_power' to numeric, coercing errors to NaN, before summing\n",
        "        data['Global_active_power'] = pd.to_numeric(data['Global_active_power'], errors='coerce')\n",
        "        daily_energy = data.groupby(data['Date'].dt.date)['Global_active_power'].sum().reset_index()\n",
        "\n",
        "        # Find days where energy consumption exceeded 5 kW (not kWh, assuming)\n",
        "        excessive_days = daily_energy[daily_energy['Global_active_power'] > 5]\n",
        "\n",
        "        if excessive_days.empty:\n",
        "            print(\"No days with energy consumption exceeding 5 kW found.\")\n",
        "            return\n",
        "\n",
        "        print(\"Days with energy consumption exceeding 5 kW:\")\n",
        "        print(excessive_days)\n",
        "\n",
        "    except Exception as e:\n",
        "        print(f\"An error occurred: {e}\")\n",
        "\n",
        "# Usage\n",
        "file_path = 'household_power_consumption.txt'\n",
        "find_excessive_energy_days(file_path)"
      ],
      "metadata": {
        "colab": {
          "base_uri": "https://localhost:8080/"
        },
        "id": "9EBV-X-ulBxD",
        "outputId": "a5678166-941c-484e-90a6-ec3bcf932843"
      },
      "execution_count": 47,
      "outputs": [
        {
          "output_type": "stream",
          "name": "stderr",
          "text": [
            "<ipython-input-47-ac6ecd958883>:6: DtypeWarning: Columns (2,3,4,5,6,7) have mixed types. Specify dtype option on import or set low_memory=False.\n",
            "  data = pd.read_csv(file_path, sep=';',\n"
          ]
        },
        {
          "output_type": "stream",
          "name": "stdout",
          "text": [
            "Days with energy consumption exceeding 5 kW:\n",
            "            Date  Global_active_power\n",
            "0     2006-12-16             1209.176\n",
            "1     2006-12-17             3390.460\n",
            "2     2006-12-18             2203.826\n",
            "3     2006-12-19             1666.194\n",
            "4     2006-12-20             2225.748\n",
            "...          ...                  ...\n",
            "1437  2010-11-22             2041.536\n",
            "1438  2010-11-23             1577.536\n",
            "1439  2010-11-24             1796.248\n",
            "1440  2010-11-25             1431.164\n",
            "1441  2010-11-26             1488.104\n",
            "\n",
            "[1433 rows x 2 columns]\n"
          ]
        }
      ]
    },
    {
      "cell_type": "code",
      "source": [
        "import pandas as pd\n",
        "import matplotlib.pyplot as plt\n",
        "\n",
        "def analyze_energy_usage(file_path):\n",
        "    try: # Indentation starts here\n",
        "        # Load the dataset\n",
        "        data = pd.read_csv(file_path, sep=';',\n",
        "                           on_bad_lines='skip',\n",
        "                           parse_dates=['Date'],\n",
        "                           dayfirst=True)\n",
        "\n",
        "        # Ensure date is of datetime type\n",
        "        data['Date'] = pd.to_datetime(data['Date'])\n",
        "\n",
        "        # **1. Plot energy usage trend for the first week of January 2007**\n",
        "        january_2007_data = data[(data['Date'].dt.year == 2007) & (data['Date'].dt.month == 1) & (data['Date'].dt.day <= 7)]\n",
        "\n",
        "        plt.figure(figsize=(10, 6))\n",
        "        # Ensure 'Global_active_power' is numeric before plotting\n",
        "        january_2007_data['Global_active_power'] = pd.to_numeric(january_2007_data['Global_active_power'], errors='coerce')\n",
        "        plt.plot(january_2007_data['Date'], january_2007_data['Global_active_power'], marker='o')\n",
        "        plt.xlabel('Date')\n",
        "        plt.ylabel('Global Active Power (kW)')\n",
        "        plt.title('Energy Usage Trend for the First Week of January 2007')\n",
        "        plt.grid(True)\n",
        "        plt.show()\n",
        "\n",
        "        # **2. Find average voltage for each day of the first week of February 2007**\n",
        "        february_2007_data = data[(data['Date'].dt.year == 2007) & (data['Date'].dt.month == 2) & (data['Date'].dt.day <= 7)]\n",
        "\n",
        "        # Ensure 'Voltage' is numeric before calculating the mean\n",
        "        february_2007_data['Voltage'] = pd.to_numeric(february_2007_data['Voltage'], errors='coerce')\n",
        "        daily_avg_voltage = february_2007_data.groupby(february_2007_data['Date'].dt.date)['Voltage'].mean().reset_index()\n",
        "\n",
        "\n",
        "        print(\"Average voltage for each day of the first week of February 2007:\")\n",
        "        print(daily_avg_voltage)\n",
        "\n",
        "        # **3. Find correlation between global active power and sub-metering values**\n",
        "        # Ensure columns are numeric before calculating correlation\n",
        "        data['Global_active_power'] = pd.to_numeric(data['Global_active_power'], errors='coerce')\n",
        "        data['Sub_metering_1'] = pd.to_numeric(data['Sub_metering_1'], errors='coerce')\n",
        "        data['Sub_metering_2'] = pd.to_numeric(data['Sub_metering_2'], errors='coerce')\n",
        "        data['Sub_metering_3'] = pd.to_numeric(data['Sub_metering_3'], errors='coerce')\n",
        "\n",
        "        correlation_matrix = data[['Global_active_power', 'Sub_metering_1', 'Sub_metering_2', 'Sub_metering_3']].corr()\n",
        "\n",
        "        print(\"\\nCorrelation Matrix:\")\n",
        "        print(correlation_matrix)\n",
        "\n",
        "    except Exception as e:\n",
        "        print(f\"An error occurred: {e}\")\n",
        "\n",
        "# Usage\n",
        "file_path = 'household_power_consumption.txt'\n",
        "analyze_energy_usage(file_path)"
      ],
      "metadata": {
        "colab": {
          "base_uri": "https://localhost:8080/",
          "height": 1000
        },
        "id": "hr94nXl9lsSp",
        "outputId": "43adff0b-9738-4b78-bb46-2e7ab6e7eeba"
      },
      "execution_count": 49,
      "outputs": [
        {
          "output_type": "stream",
          "name": "stderr",
          "text": [
            "<ipython-input-49-24d8ec498770>:7: DtypeWarning: Columns (2,3,4,5,6,7) have mixed types. Specify dtype option on import or set low_memory=False.\n",
            "  data = pd.read_csv(file_path, sep=';',\n",
            "<ipython-input-49-24d8ec498770>:20: SettingWithCopyWarning: \n",
            "A value is trying to be set on a copy of a slice from a DataFrame.\n",
            "Try using .loc[row_indexer,col_indexer] = value instead\n",
            "\n",
            "See the caveats in the documentation: https://pandas.pydata.org/pandas-docs/stable/user_guide/indexing.html#returning-a-view-versus-a-copy\n",
            "  january_2007_data['Global_active_power'] = pd.to_numeric(january_2007_data['Global_active_power'], errors='coerce')\n"
          ]
        },
        {
          "output_type": "display_data",
          "data": {
            "text/plain": [
              "<Figure size 1000x600 with 1 Axes>"
            ],
            "image/png": "[encoded data removed]"
          },
          "metadata": {}
        },
        {
          "output_type": "stream",
          "name": "stderr",
          "text": [
            "<ipython-input-49-24d8ec498770>:32: SettingWithCopyWarning: \n",
            "A value is trying to be set on a copy of a slice from a DataFrame.\n",
            "Try using .loc[row_indexer,col_indexer] = value instead\n",
            "\n",
            "See the caveats in the documentation: https://pandas.pydata.org/pandas-docs/stable/user_guide/indexing.html#returning-a-view-versus-a-copy\n",
            "  february_2007_data['Voltage'] = pd.to_numeric(february_2007_data['Voltage'], errors='coerce')\n"
          ]
        },
        {
          "output_type": "stream",
          "name": "stdout",
          "text": [
            "Average voltage for each day of the first week of February 2007:\n",
            "         Date     Voltage\n",
            "0  2007-02-01  240.392139\n",
            "1  2007-02-02  240.334389\n",
            "2  2007-02-03  238.910194\n",
            "3  2007-02-04  239.633333\n",
            "4  2007-02-05  240.810312\n",
            "5  2007-02-06  241.264160\n",
            "6  2007-02-07  241.149694\n",
            "\n",
            "Correlation Matrix:\n",
            "                     Global_active_power  Sub_metering_1  Sub_metering_2  \\\n",
            "Global_active_power             1.000000        0.484401        0.434569   \n",
            "Sub_metering_1                  0.484401        1.000000        0.054721   \n",
            "Sub_metering_2                  0.434569        0.054721        1.000000   \n",
            "Sub_metering_3                  0.638555        0.102571        0.080872   \n",
            "\n",
            "                     Sub_metering_3  \n",
            "Global_active_power        0.638555  \n",
            "Sub_metering_1             0.102571  \n",
            "Sub_metering_2             0.080872  \n",
            "Sub_metering_3             1.000000  \n"
          ]
        }
      ]
    }
  ]
}
